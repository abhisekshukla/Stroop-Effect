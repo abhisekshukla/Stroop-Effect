{
 "cells": [
  {
   "cell_type": "markdown",
   "metadata": {},
   "source": [
    "# Overview\n",
    "In psychology, the Stroop effect is a demonstration of interference in the reaction time of a task.\n",
    "\n",
    "When the name of a color (e.g., \"blue\", \"green\", or \"red\") is printed in a color which is not denoted by the name (i.e., the word \"red\" printed in blue ink instead of red ink), naming the color of the word takes longer and is more prone to errors than when the color of the ink matches the name of the color.\n",
    "\n",
    "In a Stroop task, participants are presented with a list of words, with each word displayed in a color of ink. The participant’s task is to say out loud the color of the ink in which the word is printed. The task has two conditions: a congruent words condition, and an incongruent words condition. In the congruent words condition, the words being displayed are color words whose names match the colors in which they are printed: for example RED, BLUE. In the incongruent words condition, the words displayed are color words whose names do not match the colors in which they are printed: for example PURPLE, ORANGE. In each case, we measure the time it takes to name the ink colors in equally-sized lists. Each participant will go through and record a time from each condition.\n",
    "\n",
    "The effect is named after John Ridley Stroop, who first published the effect in English in 1935.The effect had previously been published in Germany in 1929 by other authors.The original paper has been one of the most cited papers in the history of experimental psychology, leading to more than 700 replications. The effect has been used to create a psychological test (Stroop test) that is widely used in clinical practice and investigation."
   ]
  },
  {
   "cell_type": "markdown",
   "metadata": {},
   "source": [
    "## Questions For Investigation\n",
    "1. What is our independent variable? What is our dependent variable?\n",
    "\n",
    "2. What is an appropriate set of hypotheses for this task? What kind of statistical test do you expect to perform? Justify your choices.\n",
    "\n",
    "3. Report some descriptive statistics regarding this dataset. Include at least one measure of central tendency and at least one measure of variability.\n",
    "\n",
    "4. Provide one or two visualizations that show the distribution of the sample data. Write one or two sentences noting what you observe about the plot or plots.\n",
    "\n",
    "5. Now, perform the statistical test and report your results. What is your confidence level and your critical statistic value? Do you reject the null hypothesis or fail to reject it? Come to a conclusion in terms of the experiment task. Did the results match up with your expectations?"
   ]
  },
  {
   "cell_type": "markdown",
   "metadata": {},
   "source": [
    "###Q1. What is our independent variable? What is our dependent variable?<br>\n",
    "**Independent variable** : The congruency of the colour and text<br>\n",
    "**Dependent variable** : Duration (time) to recognise the colours or the texts\n",
    "\n",
    "###Q2. What is an appropriate set of hypotheses for this task? What kind of statistical test do you expect to perform? Justify your choices.\n",
    "####Hypotheses\n",
    "\n",
    "**Null Hypothesis**: There is no difference in mean response time in viewing the congruent words vs viewing the incongruent words.<br>\n",
    "H0: μ1 = μ2<br>\n",
    "where<br>\n",
    "\n",
    "H0 = the null hypothesis,<br>\n",
    "μ1 = the population mean response time in viewing the congruent words, and<br>\n",
    "μ2 = the population mean response time in viewing the incongruent words<br>\n",
    "\n",
    "**Alternative Hypothesis**: There is a significant difference in mean response time in viewing the congruent words vs viewing the incongruent words.<br>\n",
    "HA: μ1 ≠ μ2<br>\n",
    "where<br>\n",
    "\n",
    "HA = the alternative hypothesis,<br>\n",
    "μ1 = the population mean response time in viewing the congruent words, and<br>\n",
    "μ2 = the population mean response time in viewing the incongruent words<br>\n",
    "\n",
    "####Statistical test \n",
    "We will be using Dependent Two-Tailed Test because of following reasons:\n",
    "1. A two-tailed test is appropriate to see if there is significant difference in the mean reponse time between two dependent dataset\n",
    "2. In gived data set sample size is smaller. its < 30.\n",
    "3. We have don't have population parameters info.\n",
    "\n",
    "###Q3. Report some descriptive statistics regarding this dataset. Include at least one measure of central tendency and at least one measure of variability."
   ]
  },
  {
   "cell_type": "code",
   "execution_count": 44,
   "metadata": {},
   "outputs": [],
   "source": [
    "import pandas as pd\n",
    "import matplotlib.pyplot as plt\n",
    "from math import sqrt\n",
    "\n",
    "%matplotlib inline\n",
    "df = pd.read_csv('stroopdata.csv')"
   ]
  },
  {
   "cell_type": "markdown",
   "metadata": {},
   "source": [
    "####Measure of central tendency"
   ]
  },
  {
   "cell_type": "code",
   "execution_count": 45,
   "metadata": {},
   "outputs": [
    {
     "name": "stdout",
     "output_type": "stream",
     "text": [
      "Mean result of both test type...\n",
      " Congruent      14.051125\n",
      "Incongruent    22.015917\n",
      "dtype: float64 \n",
      "\n",
      "Median result for both test type...\n",
      " Congruent      14.3565\n",
      "Incongruent    21.0175\n",
      "dtype: float64\n"
     ]
    }
   ],
   "source": [
    "print(\"Mean result of both test type...\\n\", df.mean(),\"\\n\")\n",
    "\n",
    "print(\"Median result for both test type...\\n\", df.median())"
   ]
  },
  {
   "cell_type": "markdown",
   "metadata": {},
   "source": [
    "####Measure of variability"
   ]
  },
  {
   "cell_type": "code",
   "execution_count": 46,
   "metadata": {},
   "outputs": [
    {
     "name": "stdout",
     "output_type": "stream",
     "text": [
      "The standard deviation for both test type...\n",
      " Congruent      3.559358\n",
      "Incongruent    4.797057\n",
      "dtype: float64\n"
     ]
    }
   ],
   "source": [
    "print (\"The standard deviation for both test type...\\n\", df.std())"
   ]
  },
  {
   "cell_type": "markdown",
   "metadata": {},
   "source": [
    "###Q4.Provide one or two visualizations that show the distribution of the sample data. Write one or two sentences noting what you observe about the plot or plots."
   ]
  },
  {
   "cell_type": "code",
   "execution_count": 47,
   "metadata": {},
   "outputs": [
    {
     "data": {
      "image/png": "[encoded data removed]",
      "text/plain": [
       "<Figure size 432x288 with 1 Axes>"
      ]
     },
     "metadata": {
      "needs_background": "light"
     },
     "output_type": "display_data"
    }
   ],
   "source": [
    "df['Congruent'].hist()\n",
    "plt.xlabel('Time')\n",
    "plt.ylabel('Frequency')\n",
    "plt.title('Response time with Congruent world');\n"
   ]
  },
  {
   "cell_type": "markdown",
   "metadata": {},
   "source": [
    "This histogram shows a normally distributed data."
   ]
  },
  {
   "cell_type": "code",
   "execution_count": 48,
   "metadata": {},
   "outputs": [
    {
     "data": {
      "image/png": "[encoded data removed]",
      "text/plain": [
       "<Figure size 432x288 with 1 Axes>"
      ]
     },
     "metadata": {
      "needs_background": "light"
     },
     "output_type": "display_data"
    }
   ],
   "source": [
    "df['Incongruent'].hist()\n",
    "plt.xlabel('Time')\n",
    "plt.ylabel('Frequency')\n",
    "plt.title('Response time with Incongruent world');"
   ]
  },
  {
   "cell_type": "markdown",
   "metadata": {},
   "source": [
    "This histogram looks like right schewed because of two endpoints that are upper right end. "
   ]
  },
  {
   "cell_type": "markdown",
   "metadata": {},
   "source": [
    "###Q5.Now, perform the statistical test and report your results. What is your confidence level and your critical statistic value? Do you reject the null hypothesis or fail to reject it? Come to a conclusion in terms of the experiment task. Did the results match up with your expectations?\n",
    "\n",
    "**Test** = Two tail test <br>\n",
    "**Confidance level** = 95% <br>\n",
    "**Sample Size** = 24 <br>\n",
    "**Degree of freedom** = n - 1 = 23 <br>\n",
    "**t-critical value** =  +2.069 to -2.069 \n",
    "\n",
    "**t-statistic** = m/(sd/sqrt(n)<br>\n",
    "where<br>\n",
    "\n",
    "m = mean calculated on diff time between response time in congruent vs incongruent words<br>\n",
    "sd = standard derivation calculated on diff time between response time congruent vs incongruent words<br>\n",
    "n = sample size<br>"
   ]
  },
  {
   "cell_type": "code",
   "execution_count": 49,
   "metadata": {},
   "outputs": [
    {
     "name": "stdout",
     "output_type": "stream",
     "text": [
      "Mean = 7.965\n",
      "Standard Deviation = 4.865\n",
      "t-statistic = 8.021\n"
     ]
    }
   ],
   "source": [
    "df[\"difference_time\"] = df[\"Incongruent\"] - df[\"Congruent\"]\n",
    "m = round(df[\"difference_time\"].mean(), 3)\n",
    "sd = round(df[\"difference_time\"].std(), 3)\n",
    "n = 24\n",
    "t = round(m/(sd/sqrt(n)),3)\n",
    "print(\"Mean =\", m)\n",
    "print(\"Standard Deviation =\", sd)\n",
    "print(\"t-statistic =\", t)"
   ]
  },
  {
   "cell_type": "markdown",
   "metadata": {},
   "source": [
    "**Conclusion**:\n",
    "Since there is significant diff between t-statistic(8.021) and t-critical(2.069) value we can reject the null hypothesis that says that \"There is no difference in mean response time in viewing the congruent words vs viewing the incongruent words\".\n",
    "It mathces up my exptection that its takes diff reponse time when viewing congruent vs incongruent words."
   ]
  },
  {
   "cell_type": "markdown",
   "metadata": {},
   "source": [
    "### Resources\n",
    "https://en.wikipedia.org/wiki/Stroop_effect<br>\n",
    "https://medium.com/ibm-data-science-experience/markdown-for-jupyter-notebooks-cheatsheet-386c05aeebed<br>\n",
    "https://stackoverflow.com/questions/41906199/how-to-make-a-new-line-in-a-jupyter-markdown-cell<br>\n",
    "https://keydifferences.com/difference-between-t-test-and-z-test.html<br>\n",
    "https://en.wikipedia.org/wiki/Null_hypothesis<br>\n",
    "https://en.wikipedia.org/wiki/One-_and_two-tailed_tests<br>\n",
    "https://soc.utah.edu/sociology3112/central-tendency-variability.php<br>"
   ]
  },
  {
   "cell_type": "code",
   "execution_count": null,
   "metadata": {},
   "outputs": [],
   "source": []
  }
 ],
 "metadata": {
  "kernelspec": {
   "display_name": "Python 3",
   "language": "python",
   "name": "python3"
  },
  "language_info": {
   "codemirror_mode": {
    "name": "ipython",
    "version": 3
   },
   "file_extension": ".py",
   "mimetype": "text/x-python",
   "name": "python",
   "nbconvert_exporter": "python",
   "pygments_lexer": "ipython3",
   "version": "3.7.0"
  }
 },
 "nbformat": 4,
 "nbformat_minor": 2
}
